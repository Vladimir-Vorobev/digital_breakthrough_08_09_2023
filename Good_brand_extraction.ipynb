{
 "cells": [
  {
   "cell_type": "markdown",
   "id": "53132a02",
   "metadata": {},
   "source": [
    "## Импорт библиотек"
   ]
  },
  {
   "cell_type": "code",
   "execution_count": 1,
   "id": "fa36c6b4-1a3d-4ed5-89b2-0ade3fbe67ce",
   "metadata": {},
   "outputs": [],
   "source": [
    "import argparse\n",
    "\n",
    "import numpy as np\n",
    "import pandas as pd\n",
    "import torch\n",
    "from torch.utils.data import Dataset, DataLoader\n",
    "import pickle\n",
    "from tqdm import tqdm\n",
    "from dateutil import parser\n",
    "\n",
    "from find_brand import find_brand"
   ]
  },
  {
   "cell_type": "markdown",
   "id": "2b2a1a32",
   "metadata": {},
   "source": [
    "## Загрузка модели"
   ]
  },
  {
   "cell_type": "code",
   "execution_count": 2,
   "id": "2a30b63d-5294-47dd-a426-3ad74903acdb",
   "metadata": {},
   "outputs": [
    {
     "name": "stderr",
     "output_type": "stream",
     "text": [
      "  0%|                                                                                                                                                                                                                | 0/142 [00:00<?, ?it/s]/home/vladimir/.local/lib/python3.8/site-packages/transformers/generation/utils.py:1270: UserWarning: You have modified the pretrained model configuration to control generation. This is a deprecated strategy to control generation and will be removed soon, in a future version. Please use a generation configuration file (see https://huggingface.co/docs/transformers/main_classes/text_generation )\n",
      "  warnings.warn(\n",
      "100%|██████████████████████████████████████████████████████████████████████████████████████████████████████████████████████████████████████████████████████████████████████████████████████████████████████| 142/142 [02:37<00:00,  1.11s/it]\n"
     ]
    }
   ],
   "source": [
    "BATCH_SIZE = 16 * 5\n",
    "NUM_BEAMS = 2\n",
    "MAX_SOURCE_LENGTH = 70\n",
    "\n",
    "with open(f'model.pkl', 'rb') as r:\n",
    "    model = pickle.load(r).to('cuda')\n",
    "\n",
    "with open(f'tokenizer.pkl', 'rb') as r:\n",
    "    tokenizer = pickle.load(r)\n",
    "\n",
    "test_dataset = pd.read_csv('supermarket_val.tsv', sep='\\t')\n",
    "submission = pd.DataFrame({'name': test_dataset['name'].unique()})\n",
    "test_input = ['Определи название и бренд товара. ' + inp for inp in test_dataset['name'].unique().tolist()]\n",
    "test_input = [[\n",
    "    tokenizer(\n",
    "        inp,\n",
    "        padding=\"max_length\",\n",
    "        max_length=MAX_SOURCE_LENGTH,\n",
    "        truncation=True,\n",
    "        return_tensors=\"pt\",\n",
    "    ), inp]\n",
    "    for inp in test_input\n",
    "]"
   ]
  },
  {
   "cell_type": "markdown",
   "id": "cf27e4ab",
   "metadata": {},
   "source": [
    "## Предикт и сохранение результатов"
   ]
  },
  {
   "cell_type": "code",
   "execution_count": null,
   "id": "939785db",
   "metadata": {},
   "outputs": [],
   "source": [
    "pred_names = []\n",
    "pred_brands = []\n",
    "\n",
    "test_loader = DataLoader(test_input, batch_size=BATCH_SIZE)\n",
    "\n",
    "\n",
    "for item in tqdm(test_loader):\n",
    "    encoding_x, input_text = item\n",
    "    input_ids, attention_mask = encoding_x['input_ids'].reshape(-1, MAX_SOURCE_LENGTH), encoding_x['attention_mask'].reshape(-1, MAX_SOURCE_LENGTH)\n",
    "\n",
    "    with torch.no_grad():\n",
    "        prediction = model.generate(input_ids=input_ids.to('cuda'), attention_mask=attention_mask.to('cuda'), max_length=MAX_SOURCE_LENGTH, num_beams=NUM_BEAMS)\n",
    "        prediction = tokenizer.batch_decode(prediction, skip_special_tokens=True)\n",
    "        prediction = [pred.split('[SEPARATE]') for pred in prediction]\n",
    "\n",
    "        pred_names.extend([pred[0].strip().lower() for pred in prediction])\n",
    "        pred_brands.extend([find_brand(inp_text, i[1].strip().lower()) if len(i) == 2 else np.nan for i, inp_text in zip(prediction, input_text)])\n",
    "\n",
    "pred_names = [i if i != 'nan' else np.nan for i in pred_names]\n",
    "pred_brands = [i if i != 'nan' else np.nan for i in pred_brands]\n",
    "\n",
    "submission['good'] = pred_names\n",
    "submission['brand'] =  pred_brands\n",
    "submission.to_csv('item_ner.csv', index=False)"
   ]
  }
 ],
 "metadata": {
  "kernelspec": {
   "display_name": "Python 3 (ipykernel)",
   "language": "python",
   "name": "python3"
  },
  "language_info": {
   "codemirror_mode": {
    "name": "ipython",
    "version": 3
   },
   "file_extension": ".py",
   "mimetype": "text/x-python",
   "name": "python",
   "nbconvert_exporter": "python",
   "pygments_lexer": "ipython3",
   "version": "3.10.9"
  }
 },
 "nbformat": 4,
 "nbformat_minor": 5
}
